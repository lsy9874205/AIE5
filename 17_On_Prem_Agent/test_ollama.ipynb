{
 "cells": [
  {
   "cell_type": "code",
   "execution_count": 3,
   "metadata": {},
   "outputs": [],
   "source": [
    "from langchain_ollama import ChatOllama\n",
    "\n",
    "llm = ChatOllama(model=\"deepseek-r1:8b\")"
   ]
  },
  {
   "cell_type": "code",
   "execution_count": 4,
   "metadata": {},
   "outputs": [
    {
     "name": "stdout",
     "output_type": "stream",
     "text": [
      "<think>\n",
      "First, I recognize that finding the cube root of a number involves identifying which number multiplied by itself three times equals that number.\n",
      "\n",
      "For the number 27, I know that 3 multiplied by itself two more times (3 × 3 × 3) also equals 27. Therefore, the cube root of 27 is 3.\n",
      "</think>\n",
      "\n",
      "To find the **cube root** of **27**, follow these steps:\n",
      "\n",
      "1. **Understand the Concept:**\n",
      "   \n",
      "   The cube root of a number \\( x \\), denoted as \\( \\sqrt[3]{x} \\), is a number that, when multiplied by itself twice more, gives the original number.\n",
      "\n",
      "2. **Apply to the Given Number:**\n",
      "   \n",
      "   We want to find:\n",
      "   \\[\n",
      "   \\sqrt[3]{27}\n",
      "   \\]\n",
      "\n",
      "3. **Calculate:**\n",
      "   \n",
      "   Determine which number \\( y \\) satisfies:\n",
      "   \\[\n",
      "   y \\times y \\times y = 27\n",
      "   \\]\n",
      "   \n",
      "   Testing \\( y = 3 \\):\n",
      "   \\[\n",
      "   3 \\times 3 \\times 3 = 9 \\times 3 = 27\n",
      "   \\]\n",
      "   \n",
      "   Thus, \\( y = 3 \\) satisfies the equation.\n",
      "\n",
      "4. **Final Answer:**\n",
      "   \n",
      "   \\[\n",
      "   \\sqrt[3]{27} = \\boxed{3}\n",
      "   \\]"
     ]
    }
   ],
   "source": [
    "for chunk in llm.stream(\"What is the 3rd root of 27?\"):\n",
    "    print(chunk.content, end=\"\")"
   ]
  }
 ],
 "metadata": {
  "kernelspec": {
   "display_name": ".venv",
   "language": "python",
   "name": "python3"
  },
  "language_info": {
   "codemirror_mode": {
    "name": "ipython",
    "version": 3
   },
   "file_extension": ".py",
   "mimetype": "text/x-python",
   "name": "python",
   "nbconvert_exporter": "python",
   "pygments_lexer": "ipython3",
   "version": "3.13.2"
  }
 },
 "nbformat": 4,
 "nbformat_minor": 2
}
